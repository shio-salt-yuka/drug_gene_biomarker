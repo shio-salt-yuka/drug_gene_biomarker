{
 "cells": [
  {
   "cell_type": "code",
   "execution_count": 16,
   "id": "86f22f87",
   "metadata": {},
   "outputs": [
    {
     "ename": "ModuleNotFoundError",
     "evalue": "No module named 'klearn'",
     "output_type": "error",
     "traceback": [
      "\u001b[0;31m---------------------------------------------------------------------------\u001b[0m",
      "\u001b[0;31mModuleNotFoundError\u001b[0m                       Traceback (most recent call last)",
      "\u001b[0;32m<ipython-input-16-376b147a7240>\u001b[0m in \u001b[0;36m<module>\u001b[0;34m\u001b[0m\n\u001b[1;32m      3\u001b[0m \u001b[0;32mimport\u001b[0m \u001b[0mmatplotlib\u001b[0m\u001b[0;34m.\u001b[0m\u001b[0mmlab\u001b[0m \u001b[0;32mas\u001b[0m \u001b[0mmlab\u001b[0m\u001b[0;34m\u001b[0m\u001b[0;34m\u001b[0m\u001b[0m\n\u001b[1;32m      4\u001b[0m \u001b[0;32mimport\u001b[0m \u001b[0mmatplotlib\u001b[0m\u001b[0;34m.\u001b[0m\u001b[0mpyplot\u001b[0m \u001b[0;32mas\u001b[0m \u001b[0mplt\u001b[0m\u001b[0;34m\u001b[0m\u001b[0;34m\u001b[0m\u001b[0m\n\u001b[0;32m----> 5\u001b[0;31m \u001b[0;32mfrom\u001b[0m \u001b[0mklearn\u001b[0m\u001b[0;34m.\u001b[0m\u001b[0mcluster\u001b[0m \u001b[0;32mimport\u001b[0m \u001b[0mKMeans\u001b[0m\u001b[0;34m\u001b[0m\u001b[0;34m\u001b[0m\u001b[0m\n\u001b[0m\u001b[1;32m      6\u001b[0m \u001b[0;34m\u001b[0m\u001b[0m\n\u001b[1;32m      7\u001b[0m \u001b[0minFile\u001b[0m \u001b[0;34m=\u001b[0m \u001b[0;34m\"GR_AOC_preliminary.txt\"\u001b[0m\u001b[0;34m\u001b[0m\u001b[0;34m\u001b[0m\u001b[0m\n",
      "\u001b[0;31mModuleNotFoundError\u001b[0m: No module named 'klearn'"
     ]
    }
   ],
   "source": [
    "import pandas as pd\n",
    "import numpy as np\n",
    "import matplotlib.mlab as mlab\n",
    "import matplotlib.pyplot as plt\n",
    "from klearn.cluster import KMeans\n",
    "\n",
    "inFile = \"GR_AOC_preliminary.txt\"\n",
    "#df = pd.read_csv(inFile, sep=\"\\t\") #, usecols=[\"h-tamoxifen\", \"lapatinib\"]\n",
    "# h_tam = df[\"h-tamoxifen\"]\n",
    "# lapa = df[\"lapatinib\"]\n",
    "# print(h_tam)\n",
    "#histogram.....\n",
    "# df.loc[df['h-tamoxifen'] < 0, 'h-tamoxifen'] = 0 \n",
    "# df.hist(column = 'h-tamoxifen')\n",
    "# plt.xlabel(\"Data\")\n",
    "# plt.ylabel(\"Density\")\n",
    "\n",
    "df = pd.read_csv(inFile, sep=\"\\t\")\n",
    "\n",
    "drugs = []\n",
    "for x in range(len(df.columns)):\n",
    "  drugs.append(df.iloc[:,x])\n",
    "\n",
    "print(len(drugs))\n",
    "#store all drug data in vector, iterate through\n",
    "#each drug goes through k-mean analysis to determine...?\n",
    "\n",
    "#result of k-mean stores in new vector, compare the data\n"
   ]
  },
  {
   "cell_type": "code",
   "execution_count": null,
   "id": "7b121cfe",
   "metadata": {},
   "outputs": [],
   "source": []
  },
  {
   "cell_type": "code",
   "execution_count": null,
   "id": "da78c011",
   "metadata": {},
   "outputs": [],
   "source": []
  }
 ],
 "metadata": {
  "kernelspec": {
   "display_name": "Python 3",
   "language": "python",
   "name": "python3"
  },
  "language_info": {
   "codemirror_mode": {
    "name": "ipython",
    "version": 3
   },
   "file_extension": ".py",
   "mimetype": "text/x-python",
   "name": "python",
   "nbconvert_exporter": "python",
   "pygments_lexer": "ipython3",
   "version": "3.8.8"
  }
 },
 "nbformat": 4,
 "nbformat_minor": 5
}
